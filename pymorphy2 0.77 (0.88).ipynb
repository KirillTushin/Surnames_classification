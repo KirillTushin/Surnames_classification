{
 "cells": [
  {
   "cell_type": "code",
   "execution_count": 1,
   "metadata": {},
   "outputs": [
    {
     "name": "stderr",
     "output_type": "stream",
     "text": [
      "/home/kirill/anaconda3/lib/python3.6/site-packages/sklearn/cross_validation.py:41: DeprecationWarning: This module was deprecated in version 0.18 in favor of the model_selection module into which all the refactored classes and functions are moved. Also note that the interface of the new CV iterators are different from that of this module. This module will be removed in 0.20.\n",
      "  \"This module will be removed in 0.20.\", DeprecationWarning)\n"
     ]
    }
   ],
   "source": [
    "import pandas as pd\n",
    "pd.set_option('display.max_column', 999)\n",
    "import numpy as np\n",
    "from lightgbm import LGBMClassifier\n",
    "from sklearn.metrics import roc_auc_score\n",
    "from sklearn.model_selection import cross_val_score , StratifiedKFold\n",
    "from tqdm import tqdm_notebook\n",
    "from xgboost import plot_importance\n",
    "import pymorphy2\n",
    "from natasha import PersonExtractor\n",
    "from matplotlib import pyplot as plt\n",
    "import pymystem3\n",
    "from sklearn.preprocessing import LabelEncoder\n",
    "\n",
    "from tqdm._tqdm_notebook import tqdm_notebook\n",
    "tqdm_notebook.pandas(desc=\"apply\")\n",
    "\n",
    "%matplotlib inline"
   ]
  },
  {
   "cell_type": "code",
   "execution_count": 2,
   "metadata": {
    "collapsed": true
   },
   "outputs": [],
   "source": [
    "def validate(x , y):\n",
    "    model = LGBMClassifier(n_estimators=670 ,learning_rate=0.09 , num_leaves=53 , subsample=0.9 , subsample_for_bin=60000 , min_child_samples = 10 , random_state = 42)\n",
    "    cv = StratifiedKFold(4 ,shuffle=True, random_state=99)\n",
    "    score = cross_val_score(model , x , y , scoring='roc_auc' , cv=cv)\n",
    "    print (score.mean() , score.std() , '\\n')"
   ]
  },
  {
   "cell_type": "markdown",
   "metadata": {},
   "source": [
    "### Загружаем данные"
   ]
  },
  {
   "cell_type": "code",
   "execution_count": 3,
   "metadata": {
    "collapsed": true
   },
   "outputs": [],
   "source": [
    "train = pd.read_csv('data/train.csv')\n",
    "test = pd.read_csv('data/test.csv')\n",
    "all_data = pd.concat([train , test])\n",
    "\n",
    "sample = pd.read_csv('data/sample_submission.csv')"
   ]
  },
  {
   "cell_type": "markdown",
   "metadata": {},
   "source": [
    "### pymorphy2"
   ]
  },
  {
   "cell_type": "code",
   "execution_count": 4,
   "metadata": {},
   "outputs": [
    {
     "name": "stdout",
     "output_type": "stream",
     "text": [
      "CPU times: user 43.6 s, sys: 68 ms, total: 43.7 s\n",
      "Wall time: 43.7 s\n"
     ]
    }
   ],
   "source": [
    "%%time\n",
    "morph = pymorphy2.MorphAnalyzer()\n",
    "\n",
    "def name_score(word):\n",
    "    for p in morph.parse(word):\n",
    "        if 'Name' in p.tag:\n",
    "            return p.score\n",
    "    return 0\n",
    "\n",
    "def surn_score(word):\n",
    "    for p in morph.parse(word):\n",
    "        if 'Surn' in p.tag:\n",
    "            return p.score\n",
    "    return 0\n",
    "\n",
    "\n",
    "all_data['pymorphy'] = all_data['Word'].apply(lambda x: morph.tag(x)[0])\n",
    "\n",
    "all_data['pymorphy_animacy'] = all_data['pymorphy'].apply(lambda x: x.animacy)\n",
    "all_data['pymorphy_POS'] = all_data['pymorphy'].apply(lambda x: x.POS)\n",
    "all_data['pymorphy_case'] = all_data['pymorphy'].apply(lambda x: x.case)\n",
    "all_data['pymorphy_number'] = all_data['pymorphy'].apply(lambda x: x.number)\n",
    "all_data['pymorphy_gender'] = all_data['pymorphy'].apply(lambda x: x.gender)\n",
    "\n",
    "all_data.drop('pymorphy' , axis=1 , inplace=True)\n",
    "\n",
    "columns_to_one_hot = ['pymorphy_animacy', 'pymorphy_POS', 'pymorphy_case','pymorphy_number', 'pymorphy_gender']\n",
    "\n",
    "for col in columns_to_one_hot:\n",
    "    all_data[col] = LabelEncoder().fit_transform(list(all_data[col].fillna('nan')))"
   ]
  },
  {
   "cell_type": "markdown",
   "metadata": {},
   "source": [
    "### cross-val-score"
   ]
  },
  {
   "cell_type": "code",
   "execution_count": 5,
   "metadata": {},
   "outputs": [
    {
     "name": "stdout",
     "output_type": "stream",
     "text": [
      "0.775153135333 0.00359747723732 \n",
      "\n"
     ]
    }
   ],
   "source": [
    "new_train = all_data[all_data['Label'].notnull()]\n",
    "new_test = all_data[all_data['Label'].isnull()]\n",
    "validate(new_train.drop(['Label' , 'Word'] , axis=1) , new_train['Label'])"
   ]
  },
  {
   "cell_type": "markdown",
   "metadata": {},
   "source": [
    "### Если добавить основные функции строк , isupper , isupper , len , и другие фишки, легко можно получить 0.88"
   ]
  },
  {
   "cell_type": "code",
   "execution_count": null,
   "metadata": {
    "collapsed": true
   },
   "outputs": [],
   "source": [
    "### score on leaderboard 0.95399\n",
    "model = LGBMClassifier(n_estimators=670 ,learning_rate=0.09 , num_leaves=53 , subsample=0.9 , subsample_for_bin=60000 , min_child_samples = 10 , random_state = 42)\n",
    "model.fit(new_train.drop(['Label' , 'Word'] , axis=1) , new_train['Label'])\n",
    "sample['Prediction'] = model.predict_proba(new_test.drop(['Word' , 'Label'] , axis=1))[:,0]\n",
    "sample.to_csv('submit.csv' , index=False)"
   ]
  }
 ],
 "metadata": {
  "kernelspec": {
   "display_name": "Python 3",
   "language": "python",
   "name": "python3"
  },
  "language_info": {
   "codemirror_mode": {
    "name": "ipython",
    "version": 3
   },
   "file_extension": ".py",
   "mimetype": "text/x-python",
   "name": "python",
   "nbconvert_exporter": "python",
   "pygments_lexer": "ipython3",
   "version": "3.6.1"
  }
 },
 "nbformat": 4,
 "nbformat_minor": 2
}
